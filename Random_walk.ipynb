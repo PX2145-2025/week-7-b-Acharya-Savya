{
 "cells": [
  {
   "cell_type": "markdown",
   "metadata": {},
   "source": [
    "# Feedback from previous weeks and other and hints\n",
    "\n",
    "1. Be careful about your environment remembering variables. Make sure your code works in a new _clean_ environment. In Colab: `Runtime`->`restart Runtime`, in Anaconda's Jupyter: `Kernel`->`Restart`.\n",
    "2. Keep the file names when saving to GitHub. It's always possible to go back to a previous version, you are not losing anything.\n",
    "3. Run all the cells before saving to GitHub so the output is saved.\n",
    "4. Graphs without labels (or units when appropriate) are not worth any point.\n",
    "5. Do put in sufficient explanatory comments in your code.\n",
    "\n",
    "For this week you can use these imports at the start of your programs:"
   ]
  },
  {
   "cell_type": "code",
   "execution_count": 1,
   "metadata": {},
   "outputs": [],
   "source": [
    "import numpy as np\n",
    "import matplotlib.pyplot as plt\n",
    "from numpy.random import random, seed"
   ]
  },
  {
   "cell_type": "markdown",
   "metadata": {},
   "source": [
    "# Introduction\n",
    "Random processes are very common in physics. When dealing with large numbers of molecules, such as in gases, we don’t describe the trajectory of every single particle ($10^{23}$ particles is too much to handle) but often use probabilities to determine the average behaviour. Here, we look at some illustrative examples of using random numbers in physical applications.\n",
    "\n",
    "## Random walks\n",
    "The random walk problem is a classic example which, despite its simplicity, describes very well the basic physical phenomenon of _diffusion_. Diffusion is a process where par- ticles which are initially concentrated in a region in space spread out with time. For example, a drop of ink in water will gradually spread to the whole volume of water, even if the water is perfectly still. This is because the individual molecules (both the ink and the water) (i) have random directions and speeds, which depend on the temperature, and (ii) also collide with each other. It turns out that these two ingredients can be modelled very easily.\n",
    "\n",
    "## The method \n",
    "We first look at a random walk in 1-D for a single particle. We start the particle off at the origin of the x-axis and assume that it moves unit distance in each time step (the molecular speed is thus 1 unit). At the end of each time step we set the direction to left or right with equal probability, mimicking the effect of collisions. You can easily write the python code, but for flexibility of later python coding, I show here how to define a function, called `walk(steps)`, which is passed a single number steps and returns a vector of that length, which contains all the positions of the random walk."
   ]
  },
  {
   "cell_type": "code",
   "execution_count": 2,
   "metadata": {},
   "outputs": [],
   "source": [
    "def walk(steps):\n",
    "    '''\n",
    "    steps is the length of the 1-D random walk vector returned\n",
    "    '''\n",
    "    x = np.zeros(steps, int)  # initialise the array of integers\n",
    "    x[0] = 0  # start at the origin\n",
    "    for i in range(1, len(x)):  \n",
    "        rnd = random()  # rnd selected from [0,1)\n",
    "        # step left or right randomly ...\n",
    "        if (rnd<0.5):\n",
    "            x[i] = x[i-1] + 1  # steps right one unit \n",
    "        else:\n",
    "            x[i] = x[i-1] - 1 # steps left one unit\n",
    "    return x"
   ]
  },
  {
   "cell_type": "markdown",
   "metadata": {},
   "source": [
    "IMPORTANT: Make sure you understand how this function is used, and how it works. The rest of this worksheet is based on using it. You can also use the vectorised version below."
   ]
  },
  {
   "cell_type": "code",
   "execution_count": 3,
   "metadata": {},
   "outputs": [],
   "source": [
    "def walk(steps):\n",
    "    '''\n",
    "    steps is the length of the 1-D random walk vector returned\n",
    "    Vectorised method.\n",
    "    '''\n",
    "    x = np.random.choice([-1, 1], size=steps) # random -1 or 1\n",
    "    x = np.cumsum(x) # cumulative sum\n",
    "    return x"
   ]
  },
  {
   "cell_type": "markdown",
   "metadata": {},
   "source": [
    "# Exercises\n",
    "\n",
    "This must be marked before you leave the lab. Mark weighting is in brackets. **Save your work to GitHub after having run all cells with `Runtime` -> `Restart and run all`. And do not change the notebook's filename.** Do add comments to your code, you'll lose points if your code is hard to understand. Graphs without labels (or units when appropriate) are not worth any point.\n",
    "\n",
    "## Exercise 0\n",
    "\n",
    "See LearningCentral for a video example on 2D array slicing.\n",
    "\n",
    "## Exercise 1\n",
    "Use the above function to write code for a single random walker in 1-D.\n",
    "\n",
    " 1. [2] Plot to the screen a random walk for 1000 steps, i.e. plot out the steps (position $x$ plotted\n",
    "against step number $i$).\n",
    " 2. [2] Plot out as above, but this time for 100 such walks (all displayed on the same\n",
    "graph). You should do this simply by writing a loop.\n",
    "\n"
   ]
  },
  {
   "cell_type": "code",
   "execution_count": null,
   "metadata": {},
   "outputs": [],
   "source": []
  },
  {
   "cell_type": "markdown",
   "metadata": {},
   "source": [
    "## Exercise 2\n",
    "You will now extend your code to allow for _multiple_ walks in a more systematic way. Do this by defining a 2-D array to contain the trajectories of `N` particles, each taking a number of steps called `steps`, i.e. define an initially empty integer array like this: \n",
    "```python\n",
    "particles = np.zeros((steps, N), int)\n",
    "```\n",
    "Which you will fill with the `steps` of each `N` particles. You may find [week 6 of PX1224](https://alexandria.astro.cf.ac.uk/Joomla-python/index.php/week-6-two-dimensional-arrays) useful, in particular \"2.2. Returning parts of 2-d Arrays\".\n",
    "\n",
    " 1. [2] Calculate and then plot out the steps for 10 walkers to the screen (still use 1000 steps), all on the same plot.\n",
    " 2. [2] Calculate (plot if you wish) the steps for 500 walkers. We define _for each step_ a \"mean position\": the average of the positions of all walkers at each step. We also define _for each step_ a \"mean squared position\": the average of the squares of the positions of all walkers (**not** the square of the average) at each step. Those two quantities, the \"mean position\" and the \"mean squared position\" are standard quantities in random walks. Print out the \"mean position\" and the \"mean squared position\" of the 500 walkers at the _last_ step.\n",
    " 3. [4] Calculate the mean position at _each_ step, and plot it.\n",
    " 4. [4] Calculate the mean squared position of the 500 walkers at _each_ step, and\n",
    "plot it. What do you notice?\n",
    "\n"
   ]
  },
  {
   "cell_type": "code",
   "execution_count": null,
   "metadata": {},
   "outputs": [],
   "source": []
  },
  {
   "cell_type": "markdown",
   "metadata": {},
   "source": [
    "## Exercise 3\n",
    "Extend the previous exercise by plotting a histogram of particle positions. You will need to decide yourself how best to do this. You will need to use the histogram function `plt.hist`.\n",
    "\n",
    " 1. [2] Plot a histogram at the _last_ step.\n",
    " 2. [2] Plot a histogram for intermediate steps of your choice to illustrate how it changes with the number of steps. Each histogram should be saved as an image to that they can easily be viewed afterwards. (If you feel ambitious, you could make an animation, see the solution to the optional question of week 3 for an example how).\n"
   ]
  },
  {
   "cell_type": "code",
   "execution_count": null,
   "metadata": {},
   "outputs": [],
   "source": []
  }
 ],
 "metadata": {
  "kernelspec": {
   "display_name": "Python 3.9.13 ('basic')",
   "language": "python",
   "name": "python3"
  },
  "language_info": {
   "codemirror_mode": {
    "name": "ipython",
    "version": 3
   },
   "file_extension": ".py",
   "mimetype": "text/x-python",
   "name": "python",
   "nbconvert_exporter": "python",
   "pygments_lexer": "ipython3",
   "version": "3.9.13"
  },
  "vscode": {
   "interpreter": {
    "hash": "24cb96319481aa88c8a1e3d3541479232b3965a5cb00f13e0c82931ba911617a"
   }
  }
 },
 "nbformat": 4,
 "nbformat_minor": 2
}
